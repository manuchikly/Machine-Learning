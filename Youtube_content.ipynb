{
 "cells": [
  {
   "cell_type": "code",
   "execution_count": 1,
   "id": "dfda5132",
   "metadata": {},
   "outputs": [
    {
     "name": "stdout",
     "output_type": "stream",
     "text": [
      "Requirement already satisfied: openai==0.28 in c:\\users\\nishitha sai\\anaconda3\\lib\\site-packages (0.28.0)\n",
      "Requirement already satisfied: aiohttp in c:\\users\\nishitha sai\\anaconda3\\lib\\site-packages (from openai==0.28) (3.9.5)\n",
      "Requirement already satisfied: requests>=2.20 in c:\\users\\nishitha sai\\anaconda3\\lib\\site-packages (from openai==0.28) (2.28.1)\n",
      "Requirement already satisfied: tqdm in c:\\users\\nishitha sai\\anaconda3\\lib\\site-packages (from openai==0.28) (4.66.2)\n",
      "Requirement already satisfied: idna<4,>=2.5 in c:\\users\\nishitha sai\\anaconda3\\lib\\site-packages (from requests>=2.20->openai==0.28) (3.3)\n",
      "Requirement already satisfied: certifi>=2017.4.17 in c:\\users\\nishitha sai\\anaconda3\\lib\\site-packages (from requests>=2.20->openai==0.28) (2022.9.14)\n",
      "Requirement already satisfied: urllib3<1.27,>=1.21.1 in c:\\users\\nishitha sai\\anaconda3\\lib\\site-packages (from requests>=2.20->openai==0.28) (1.26.11)\n",
      "Requirement already satisfied: charset-normalizer<3,>=2 in c:\\users\\nishitha sai\\anaconda3\\lib\\site-packages (from requests>=2.20->openai==0.28) (2.0.4)\n",
      "Requirement already satisfied: frozenlist>=1.1.1 in c:\\users\\nishitha sai\\anaconda3\\lib\\site-packages (from aiohttp->openai==0.28) (1.4.1)\n",
      "Requirement already satisfied: multidict<7.0,>=4.5 in c:\\users\\nishitha sai\\anaconda3\\lib\\site-packages (from aiohttp->openai==0.28) (6.0.5)\n",
      "Requirement already satisfied: yarl<2.0,>=1.0 in c:\\users\\nishitha sai\\anaconda3\\lib\\site-packages (from aiohttp->openai==0.28) (1.9.4)\n",
      "Requirement already satisfied: attrs>=17.3.0 in c:\\users\\nishitha sai\\anaconda3\\lib\\site-packages (from aiohttp->openai==0.28) (21.4.0)\n",
      "Requirement already satisfied: aiosignal>=1.1.2 in c:\\users\\nishitha sai\\anaconda3\\lib\\site-packages (from aiohttp->openai==0.28) (1.3.1)\n",
      "Requirement already satisfied: async-timeout<5.0,>=4.0 in c:\\users\\nishitha sai\\anaconda3\\lib\\site-packages (from aiohttp->openai==0.28) (4.0.3)\n",
      "Requirement already satisfied: colorama in c:\\users\\nishitha sai\\anaconda3\\lib\\site-packages (from tqdm->openai==0.28) (0.4.5)\n",
      "Note: you may need to restart the kernel to use updated packages.\n"
     ]
    }
   ],
   "source": [
    "pip install openai==0.28"
   ]
  },
  {
   "cell_type": "code",
   "execution_count": 6,
   "id": "ccc0440a",
   "metadata": {},
   "outputs": [
    {
     "name": "stdout",
     "output_type": "stream",
     "text": [
      "Enter Video topic: Pollution\n"
     ]
    },
    {
     "name": "stderr",
     "output_type": "stream",
     "text": [
      "C:\\Users\\NISHITHA SAI\\anaconda3\\lib\\site-packages\\langchain_community\\llms\\openai.py:249: UserWarning: You are trying to use a chat model. This way of initializing it is no longer supported. Instead, please use: `from langchain_community.chat_models import ChatOpenAI`\n",
      "  warnings.warn(\n",
      "C:\\Users\\NISHITHA SAI\\anaconda3\\lib\\site-packages\\langchain_community\\llms\\openai.py:1070: UserWarning: You are trying to use a chat model. This way of initializing it is no longer supported. Instead, please use: `from langchain_community.chat_models import ChatOpenAI`\n",
      "  warnings.warn(\n"
     ]
    },
    {
     "name": "stdout",
     "output_type": "stream",
     "text": [
      "Title:\n",
      "There are countless topics to explore when it comes to pollution, and creating YouTube videos about this important issue can help raise awareness and inspire action. Here are some content ideas for videos about pollution:\n",
      "\n",
      "1. \"The Effects of Air Pollution on Our Health\": Discuss the various health problems that can result from exposure to air pollution, including respiratory issues, heart disease, and cancer.\n",
      "\n",
      "2. \"Plastic Pollution: The Problem and Solutions\": Explore the impact of plastic pollution on our oceans and wildlife, and highlight ways that individuals can reduce their plastic consumption and waste.\n",
      "\n",
      "3. \"The Role of Industrial Pollution in Climate Change\": Examine how industrial activities contribute to greenhouse gas emissions and global warming, and showcase innovative solutions for reducing emissions.\n",
      "\n",
      "4. \"Pollution Hotspots: Investigating the Most Polluted Places on Earth\": Take viewers on a virtual tour of some of the most polluted cities and regions in the world, and discuss the causes and consequences of pollution in these areas.\n",
      "\n",
      "5. \"The Importance of Environmental Regulations in Preventing Pollution\": Explore the role of government regulations and policies in protecting the environment and reducing pollution, and discuss ways that individuals can advocate for stronger environmental protections.\n",
      "\n",
      "6. \"Cleaning Up Our Act: Community-Led Pollution Cleanup Projects\": Highlight grassroots efforts to clean up pollution in local communities, and showcase the positive impact that volunteer-led cleanup projects can have on the environment.\n",
      "\n",
      "7. \"The Future of Clean Energy: How Renewable Technologies Can Help Combat Pollution\": Discuss the potential of renewable energy sources like solar and wind power to reduce pollution and combat climate change, and showcase innovative clean energy projects around the world.\n",
      "\n",
      "By creating engaging and informative videos about pollution, you can help educate your audience about this critical issue and inspire them to take action to protect the planet. Remember to include calls to action in your videos, encouraging viewers to make small changes in their daily lives to reduce pollution and support environmental conservation efforts.\n",
      "\n",
      "Tweet:\n",
      "Let's raise awareness and inspire action on pollution with YouTube videos! From the effects of air pollution on health to solutions for plastic pollution, there are endless topics to explore. Get creative and make a difference! 🌍💡 #PollutionAwareness #YouTubeVideos\n",
      "\n",
      "Title History:\n",
      "Human: Pollution\n",
      "AI: There are countless topics to explore when it comes to pollution, and creating YouTube videos about this important issue can help raise awareness and inspire action. Here are some content ideas for videos about pollution:\n",
      "\n",
      "1. \"The Effects of Air Pollution on Our Health\": Discuss the various health problems that can result from exposure to air pollution, including respiratory issues, heart disease, and cancer.\n",
      "\n",
      "2. \"Plastic Pollution: The Problem and Solutions\": Explore the impact of plastic pollution on our oceans and wildlife, and highlight ways that individuals can reduce their plastic consumption and waste.\n",
      "\n",
      "3. \"The Role of Industrial Pollution in Climate Change\": Examine how industrial activities contribute to greenhouse gas emissions and global warming, and showcase innovative solutions for reducing emissions.\n",
      "\n",
      "4. \"Pollution Hotspots: Investigating the Most Polluted Places on Earth\": Take viewers on a virtual tour of some of the most polluted cities and regions in the world, and discuss the causes and consequences of pollution in these areas.\n",
      "\n",
      "5. \"The Importance of Environmental Regulations in Preventing Pollution\": Explore the role of government regulations and policies in protecting the environment and reducing pollution, and discuss ways that individuals can advocate for stronger environmental protections.\n",
      "\n",
      "6. \"Cleaning Up Our Act: Community-Led Pollution Cleanup Projects\": Highlight grassroots efforts to clean up pollution in local communities, and showcase the positive impact that volunteer-led cleanup projects can have on the environment.\n",
      "\n",
      "7. \"The Future of Clean Energy: How Renewable Technologies Can Help Combat Pollution\": Discuss the potential of renewable energy sources like solar and wind power to reduce pollution and combat climate change, and showcase innovative clean energy projects around the world.\n",
      "\n",
      "By creating engaging and informative videos about pollution, you can help educate your audience about this critical issue and inspire them to take action to protect the planet. Remember to include calls to action in your videos, encouraging viewers to make small changes in their daily lives to reduce pollution and support environmental conservation efforts.\n",
      "\n",
      "Tweet History:\n",
      "Human: There are countless topics to explore when it comes to pollution, and creating YouTube videos about this important issue can help raise awareness and inspire action. Here are some content ideas for videos about pollution:\n",
      "\n",
      "1. \"The Effects of Air Pollution on Our Health\": Discuss the various health problems that can result from exposure to air pollution, including respiratory issues, heart disease, and cancer.\n",
      "\n",
      "2. \"Plastic Pollution: The Problem and Solutions\": Explore the impact of plastic pollution on our oceans and wildlife, and highlight ways that individuals can reduce their plastic consumption and waste.\n",
      "\n",
      "3. \"The Role of Industrial Pollution in Climate Change\": Examine how industrial activities contribute to greenhouse gas emissions and global warming, and showcase innovative solutions for reducing emissions.\n",
      "\n",
      "4. \"Pollution Hotspots: Investigating the Most Polluted Places on Earth\": Take viewers on a virtual tour of some of the most polluted cities and regions in the world, and discuss the causes and consequences of pollution in these areas.\n",
      "\n",
      "5. \"The Importance of Environmental Regulations in Preventing Pollution\": Explore the role of government regulations and policies in protecting the environment and reducing pollution, and discuss ways that individuals can advocate for stronger environmental protections.\n",
      "\n",
      "6. \"Cleaning Up Our Act: Community-Led Pollution Cleanup Projects\": Highlight grassroots efforts to clean up pollution in local communities, and showcase the positive impact that volunteer-led cleanup projects can have on the environment.\n",
      "\n",
      "7. \"The Future of Clean Energy: How Renewable Technologies Can Help Combat Pollution\": Discuss the potential of renewable energy sources like solar and wind power to reduce pollution and combat climate change, and showcase innovative clean energy projects around the world.\n",
      "\n",
      "By creating engaging and informative videos about pollution, you can help educate your audience about this critical issue and inspire them to take action to protect the planet. Remember to include calls to action in your videos, encouraging viewers to make small changes in their daily lives to reduce pollution and support environmental conservation efforts.\n",
      "AI: Let's raise awareness and inspire action on pollution with YouTube videos! From the effects of air pollution on health to solutions for plastic pollution, there are endless topics to explore. Get creative and make a difference! 🌍💡 #PollutionAwareness #YouTubeVideos\n"
     ]
    }
   ],
   "source": [
    "import os\n",
    "from langchain.llms import OpenAI\n",
    "from langchain.prompts import PromptTemplate\n",
    "from langchain.chains import LLMChain\n",
    "from langchain.memory import ConversationBufferMemory\n",
    "\n",
    "# Set OpenAI API key\n",
    "os.environ['OPENAI_API_KEY'] = ''  # Add your OpenAI API key here\n",
    "\n",
    "# Simulated user input (replace with actual prompt)\n",
    "prompt = input(\"Enter Video topic: \")\n",
    "\n",
    "# Prompt templates\n",
    "title_template = PromptTemplate(\n",
    "    input_variables=['topic'],\n",
    "    template='write me a  Content to Make youtube Videos about {topic}'\n",
    ")\n",
    "\n",
    "tweet_template = PromptTemplate(\n",
    "    input_variables=['title'],\n",
    "    template='write me a tweet on this title TITLE: {title}'\n",
    ")\n",
    "\n",
    "# Memory buffers\n",
    "title_memory = ConversationBufferMemory(input_key='topic', memory_key='chat_history')\n",
    "tweet_memory = ConversationBufferMemory(input_key='title', memory_key='chat_history')\n",
    "\n",
    "# OpenAI language model\n",
    "llm = OpenAI(model_name=\"gpt-3.5-turbo\", temperature=0.7)\n",
    "title_chain = LLMChain(llm=llm, prompt=title_template, verbose=False, output_key='title', memory=title_memory)\n",
    "tweet_chain = LLMChain(llm=llm, prompt=tweet_template, verbose=False, output_key='script', memory=tweet_memory)\n",
    "\n",
    "# Execute the logic\n",
    "if prompt:\n",
    "    # Simulate running title_chain\n",
    "    title = title_chain.run(prompt)\n",
    "\n",
    "    # Simulate running tweet_chain with outputs\n",
    "    tweet = tweet_chain.run(title=title)\n",
    "\n",
    "    # Display outputs\n",
    "    print(\"Title:\")\n",
    "    print(title)\n",
    "\n",
    "    print(\"\\nTweet:\")\n",
    "    print(tweet)\n",
    "\n",
    "    # Display memory buffers\n",
    "    print(\"\\nTitle History:\")\n",
    "    print(title_memory.buffer)\n",
    "\n",
    "    print(\"\\nTweet History:\")\n",
    "    print(tweet_memory.buffer)\n"
   ]
  },
  {
   "cell_type": "code",
   "execution_count": null,
   "id": "38a240ee",
   "metadata": {},
   "outputs": [],
   "source": []
  }
 ],
 "metadata": {
  "kernelspec": {
   "display_name": "Python 3 (ipykernel)",
   "language": "python",
   "name": "python3"
  },
  "language_info": {
   "codemirror_mode": {
    "name": "ipython",
    "version": 3
   },
   "file_extension": ".py",
   "mimetype": "text/x-python",
   "name": "python",
   "nbconvert_exporter": "python",
   "pygments_lexer": "ipython3",
   "version": "3.9.13"
  }
 },
 "nbformat": 4,
 "nbformat_minor": 5
}
